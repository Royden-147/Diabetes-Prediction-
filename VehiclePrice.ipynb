{
 "cells": [
  {
   "cell_type": "markdown",
   "id": "de94864b",
   "metadata": {},
   "source": [
    "## REGRESSION Problem Project - Vehicle Price Prediction"
   ]
  },
  {
   "cell_type": "code",
   "execution_count": null,
   "id": "7e5e90db",
   "metadata": {},
   "outputs": [],
   "source": [
    "import pandas as pd\n",
    "\n",
    "auto_data = pd.read_excel('carData.xlsx')\n",
    "auto_data.head()"
   ]
  },
  {
   "cell_type": "markdown",
   "id": "e0a37de7",
   "metadata": {},
   "source": [
    "### clean data"
   ]
  },
  {
   "cell_type": "code",
   "execution_count": null,
   "id": "e2ae21fd",
   "metadata": {},
   "outputs": [],
   "source": [
    "import numpy as np\n",
    "auto_data = auto_data.replace(-1,np.nan)\n",
    "auto_data = auto_data.replace(-2,np.nan)\n",
    "auto_data[170:190]"
   ]
  },
  {
   "cell_type": "code",
   "execution_count": null,
   "id": "45e1d2e4",
   "metadata": {},
   "outputs": [],
   "source": [
    "auto_data.head()"
   ]
  },
  {
   "cell_type": "code",
   "execution_count": null,
   "id": "730262a6",
   "metadata": {},
   "outputs": [],
   "source": [
    "auto_data['price'].describe() # lets see what type of data type price is"
   ]
  },
  {
   "cell_type": "code",
   "execution_count": null,
   "id": "0538bc82",
   "metadata": {},
   "outputs": [],
   "source": [
    "auto_data['price']=pd.to_numeric(auto_data['price'],errors='coerce')\n",
    "auto_data['price'].describe()\n",
    "## is used to covert datatype from OBJECT to Float"
   ]
  },
  {
   "cell_type": "markdown",
   "id": "08e36068",
   "metadata": {},
   "source": [
    "### removing unwanted columns"
   ]
  },
  {
   "cell_type": "code",
   "execution_count": null,
   "id": "157bed7e",
   "metadata": {},
   "outputs": [],
   "source": [
    "auto_data.columns\n",
    "auto_data.head()"
   ]
  },
  {
   "cell_type": "code",
   "execution_count": null,
   "id": "0ea66a11",
   "metadata": {},
   "outputs": [],
   "source": [
    "auto_data['doornumber'].describe()"
   ]
  },
  {
   "cell_type": "code",
   "execution_count": null,
   "id": "38af4ce3",
   "metadata": {},
   "outputs": [],
   "source": [
    "##   using DICTIONARY MAPPING we convert door number (TEXT) to numbers\n",
    "\n",
    "door_dict = {\n",
    "    'two' : 2,\n",
    "    'three' : 3,\n",
    "    'four' : 4,\n",
    "    'five' : 5,\n",
    "    'six' : 6,\n",
    "    'seven' : 7,\n",
    "    'eight' : 8,\n",
    "    'nine' : 9\n",
    "}\n",
    "auto_data['doornumber'].replace(door_dict, inplace= True)\n",
    "auto_data.head()"
   ]
  },
  {
   "cell_type": "code",
   "execution_count": null,
   "id": "80d916fe",
   "metadata": {},
   "outputs": [],
   "source": [
    "auto_data['enginetype'].value_counts() # Disable row limit"
   ]
  },
  {
   "cell_type": "code",
   "execution_count": null,
   "id": "89d9a5e0",
   "metadata": {},
   "outputs": [],
   "source": [
    "auto_data['enginelocation'].value_counts().to_csv('carname_counts.csv')\n",
    "\n"
   ]
  },
  {
   "cell_type": "markdown",
   "id": "e07434e7",
   "metadata": {},
   "source": [
    "## --- THIS IS DICTIONARY MAPPING OF THE DATA ---"
   ]
  },
  {
   "cell_type": "code",
   "execution_count": null,
   "id": "56d2cf6f",
   "metadata": {},
   "outputs": [],
   "source": [
    "car_name_mapping = {\n",
    "    'peugeot 504': 1,\n",
    "    'toyota corolla': 2,\n",
    "    'toyota corona': 3,\n",
    "    'subaru dl': 4,\n",
    "    'mitsubishi outlander': 5,\n",
    "    'mazda 626': 6,\n",
    "    'honda civic': 7,\n",
    "    'mitsubishi mirage g4': 8,\n",
    "    'mitsubishi g4': 9,\n",
    "    'toyota mark ii': 10,\n",
    "    'nissan clipper': 11,\n",
    "    'honda civic cvcc': 12,\n",
    "    'honda accord': 13,\n",
    "    'mazda glc': 14,\n",
    "    'mazda rx-7 gs': 15,\n",
    "    'mazda glc deluxe': 16,\n",
    "    'bmw x3': 17,\n",
    "    'bmw 320i': 18,\n",
    "    'audi 100ls': 19,\n",
    "    'volvo 264gl': 20,\n",
    "    'volvo 144ea': 21,\n",
    "    'volvo 244dl': 22,\n",
    "    'toyota starlet': 23,\n",
    "    'volvo 145e (sw)': 24,\n",
    "    'subaru': 25,\n",
    "    'toyota corolla 1200': 26,\n",
    "    'saab 99e': 27,\n",
    "    'peugeot 604sl': 28,\n",
    "    'saab 99le': 29,\n",
    "    'saab 99gle': 30,\n",
    "    'nissan rogue': 31,\n",
    "    'nissan latio': 32,\n",
    "    'mazda rx-4': 33,\n",
    "    'isuzu D-Max ': 34,\n",
    "    'volkswagen dasher': 35,\n",
    "    'porsche cayenne': 36,\n",
    "    'plymouth fury iii': 37,\n",
    "    'toyota corolla liftback': 38,\n",
    "    'chevrolet impala': 39,\n",
    "    'bmw x5': 40,\n",
    "    'bmw x4': 41,\n",
    "    'bmw z4': 42,\n",
    "    'bmw x1': 43,\n",
    "    'audi 100 ls': 44,\n",
    "    'audi 5000s (diesel)': 45,\n",
    "    'audi 4000': 46,\n",
    "    'audi 5000': 47,\n",
    "    'audi fox': 48,\n",
    "    'alfa-romero giulia': 49,\n",
    "    'alfa-romero stelvio': 50,\n",
    "    'alfa-romero Quadrifoglio': 51,\n",
    "    'dodge rampage': 52,\n",
    "    'chevrolet vega 2300': 53,\n",
    "    'chevrolet monte carlo': 54,\n",
    "    'isuzu D-Max V-Cross': 55,\n",
    "    'mazda glc 4': 56,\n",
    "    'maxda glc deluxe': 57,\n",
    "    'mazda rx2 coupe': 58,\n",
    "    'mazda glc custom l': 59,\n",
    "    'buick skylark': 60,\n",
    "    'buick opel isuzu deluxe': 61,\n",
    "    'buick skyhawk': 62,\n",
    "    'buick century special': 63,\n",
    "    'jaguar xj': 64,\n",
    "    'jaguar xf': 65,\n",
    "    'buick century': 66,\n",
    "    'dodge dart custom': 67,\n",
    "    'honda prelude': 68,\n",
    "    'honda civic 1300': 69,\n",
    "    'honda civic 1500 gl': 70,\n",
    "    'honda accord lx': 71,\n",
    "    'honda accord cvcc': 72,\n",
    "    'dodge coronet custom': 73,\n",
    "    'isuzu MU-X': 74,\n",
    "    'honda civic (auto)': 75,\n",
    "    'maxda rx3': 76,\n",
    "    'jaguar xk': 77,\n",
    "    'dodge coronet custom (sw)': 78,\n",
    "    'dodge challenger se': 79,\n",
    "    'dodge colt (sw)': 80,\n",
    "    'dodge d200': 81,\n",
    "    'dodge monaco (sw)': 82,\n",
    "    'dodge colt hardtop': 83,\n",
    "    'nissan teana': 84,\n",
    "    'nissan otti': 85,\n",
    "    'nissan fuga': 86,\n",
    "    'nissan dayz': 87,\n",
    "    'nissan nv200': 88,\n",
    "    'nissan note': 89,\n",
    "    'nissan juke': 90,\n",
    "    'nissan leaf': 91,\n",
    "    'mitsubishi pajero': 92,\n",
    "    'nissan titan': 93,\n",
    "    'Nissan versa': 94,\n",
    "    'nissan gt-r': 95,\n",
    "    'mitsubishi montero': 96,\n",
    "    'mercury cougar': 97,\n",
    "    'buick regal sport coupe (turbo)': 98,\n",
    "    'mitsubishi lancer': 99,\n",
    "    'buick century luxus (sw)': 100,\n",
    "    'buick electra 225 custom': 101,\n",
    "    'mazda glc custom': 102,\n",
    "    'mitsubishi mirage': 103,\n",
    "    'plymouth fury gran sedan': 104,\n",
    "    'plymouth valiant': 105,\n",
    "    'plymouth satellite custom (sw)': 106,\n",
    "    'plymouth duster': 107,\n",
    "    'porsche boxter': 108,\n",
    "    'porcshce panamera': 109,\n",
    "    'porsche macan': 110,\n",
    "    'plymouth cricket': 111,\n",
    "    'peugeot 504 (sw)': 112,\n",
    "    'peugeot 304': 113,\n",
    "    'peugeot 505s turbo diesel': 114,\n",
    "    'nissan kicks': 115,\n",
    "    'subaru tribeca': 116,\n",
    "    'toyota corona mark ii': 117,\n",
    "    'subaru r2': 118,\n",
    "    'subaru trezia': 119,\n",
    "    'subaru r1': 120,\n",
    "    'subaru baja': 121,\n",
    "    'renault 12tl': 122,\n",
    "    'subaru brz': 123,\n",
    "    'renault 5 gtl': 124,\n",
    "    'toyota corolla tercel': 125,\n",
    "    'toyota tercel': 126,\n",
    "    'toyota corona liftback': 127,\n",
    "    'toyota carina': 128,\n",
    "    'toyota corolla 1600 (sw)': 129,\n",
    "    'toyota celica gt liftback': 130,\n",
    "    'toyota corona hardtop': 131,\n",
    "    'volkswagen 1131 deluxe sedan': 132,\n",
    "    'vokswagen rabbit': 133,\n",
    "    'toyouta tercel': 134,\n",
    "    'toyota celica gt': 135,\n",
    "    'toyota cressida': 136,\n",
    "    'volkswagen model 111': 137,\n",
    "    'volkswagen 411 (sw)': 138,\n",
    "    'volkswagen type 3': 139,\n",
    "    'volkswagen rabbit': 140,\n",
    "    'vw rabbit': 141,\n",
    "    'vw dasher': 142,\n",
    "    'volkswagen super beetle': 143,\n",
    "    'volkswagen rabbit custom': 144,\n",
    "    'volvo 245': 145,\n",
    "    'volvo diesel': 146,\n",
    "    'volvo 246': 147\n",
    "}\n",
    "\n",
    "auto_data['CarName'].replace(car_name_mapping, inplace= True)\n",
    "\n",
    "fueldict={\n",
    "    'gas':0,\n",
    "    'diesel':1\n",
    "}\n",
    "auto_data['fueltype'].replace(fueldict, inplace= True)\n",
    "\n",
    "asdict={\n",
    "    'std':0,\n",
    "    'turbo':1\n",
    "}\n",
    "auto_data['aspiration'].replace(asdict, inplace= True)\n",
    "\n",
    "carBody = {\n",
    "    'sedan': 0,\n",
    "    'hatchback': 1,\n",
    "    'wagon': 2,\n",
    "    'hardtop': 3,\n",
    "    'convertible': 4\n",
    "}\n",
    "auto_data['carbody'].replace(carBody, inplace= True)\n",
    "\n",
    "wheeldrive = {\n",
    "    'fwd': 0,\n",
    "    'rwd': 1,\n",
    "    '4wd': 2\n",
    "}\n",
    "auto_data['drivewheel'].replace(wheeldrive, inplace= True)\n",
    "\n",
    "engineloc = {\n",
    "    'front': 0,\n",
    "    'rear': 1\n",
    "}\n",
    "auto_data['enginelocation'].replace(engineloc, inplace= True)\n",
    "\n",
    "fueltypeDict = {\n",
    "    'mpfi': 0,\n",
    "    '2bbl': 1,\n",
    "    'idi': 2,\n",
    "    '1bbl': 3,\n",
    "    'spdi': 4,\n",
    "    '4bbl': 5,\n",
    "    'mfi': 6,\n",
    "    'spfi':7\n",
    "}\n",
    "auto_data['fuelsystem'].replace(fueltypeDict, inplace= True)\n",
    "\n",
    "cylinder_dict = {\n",
    "    'two' : 2,\n",
    "    'three' : 3,\n",
    "    'four' : 4,\n",
    "    'five' : 5,\n",
    "    'six' : 6,\n",
    "    'seven' : 7,\n",
    "    'eight' : 8,\n",
    "    'nine' : 9,\n",
    "    'twelve':12\n",
    "}\n",
    "auto_data['cylindernumber'].replace(cylinder_dict, inplace= True)\n",
    "\n",
    "engine_ty_d = {\n",
    "    'ohc': 0,\n",
    "    'ohcf': 1,\n",
    "    'ohcv': 2,\n",
    "    'dohc': 3,\n",
    "    'l': 4,\n",
    "    'rotor': 5,\n",
    "    'dohcv': 6,\n",
    "    'spfi':7\n",
    "}\n",
    "auto_data['enginetype'].replace(engine_ty_d, inplace= True)\n",
    "\n",
    "auto_data.head()"
   ]
  },
  {
   "cell_type": "code",
   "execution_count": null,
   "id": "49dde6dc",
   "metadata": {},
   "outputs": [],
   "source": [
    "auto_data.isna().sum()\n"
   ]
  },
  {
   "cell_type": "code",
   "execution_count": null,
   "id": "24b792d2",
   "metadata": {},
   "outputs": [],
   "source": [
    "del auto_data['CarName']\n",
    "del auto_data['peakrpm']\n",
    "del auto_data['curbweight']\n",
    "\n",
    "# DELETING THE COLUMNS WITH LOW COEFFICIENT VALUES"
   ]
  },
  {
   "cell_type": "markdown",
   "id": "f1b9bc05",
   "metadata": {},
   "source": [
    "## TRAIN TEST SPLIT"
   ]
  },
  {
   "cell_type": "code",
   "execution_count": null,
   "id": "baef98b3",
   "metadata": {},
   "outputs": [],
   "source": [
    "from sklearn.model_selection import train_test_split\n",
    "# feature_col_names = ['Pregnancies','Glucose','BloodPressure','SkinThickness','Insulin','BMI','DiabetesPedigreeFunction','Age']\n",
    "# predicted_class_name = ['Outcome']\n",
    "x = auto_data.drop('price',axis=1)\n",
    "y = auto_data['price']\n",
    "\n",
    "x_train, x_test, y_train, y_test = train_test_split(x,y,test_size=0.2, random_state = 42)"
   ]
  },
  {
   "cell_type": "markdown",
   "id": "12ff93ef",
   "metadata": {},
   "source": [
    "#### let us apply mean strategy"
   ]
  },
  {
   "cell_type": "code",
   "execution_count": null,
   "id": "03545d4e",
   "metadata": {},
   "outputs": [],
   "source": [
    "from sklearn.impute import SimpleImputer\n",
    "\n",
    "fill_0 = SimpleImputer(missing_values=np.nan ,strategy='mean')\n",
    "# fill_0 = SimpleImputer(missing_values = 0, strategy = 'mean', axis = 0)\n",
    "\n",
    "x_train = fill_0.fit_transform(x_train)\n",
    "x_test = fill_0.fit_transform(x_test)"
   ]
  },
  {
   "cell_type": "code",
   "execution_count": null,
   "id": "ea0a1207",
   "metadata": {},
   "outputs": [],
   "source": [
    "# from sklearn.impute import SimpleImputer\n",
    "\n",
    "# fill_0 = SimpleImputer(missing_values=np.nan ,strategy='mean')\n",
    "# # fill_0 = SimpleImputer(missing_values = 0, strategy = 'mean', axis = 0)\n",
    "\n",
    "# y_train = fill_0.fit_transform(y_train)\n",
    "# y_test = fill_0.fit_transform(y_test)\n",
    "\n",
    "print(len(x_train),len(x_test),len(y_train),len(y_test))"
   ]
  },
  {
   "cell_type": "markdown",
   "id": "45ca8e05",
   "metadata": {},
   "source": [
    "## TRAIN ALGOS"
   ]
  },
  {
   "cell_type": "code",
   "execution_count": null,
   "id": "dac77437",
   "metadata": {},
   "outputs": [],
   "source": [
    "# LINEAR REGRESSION ALGO\n",
    "\n",
    "from sklearn.linear_model import LinearRegression\n",
    "\n",
    "liner_model = LinearRegression()\n",
    "liner_model.fit(x_train, y_train)"
   ]
  },
  {
   "cell_type": "code",
   "execution_count": null,
   "id": "ad500b3d",
   "metadata": {},
   "outputs": [],
   "source": [
    "# ACCURACY OF THE ALGO\n",
    "\n",
    "liner_model.score(x_train,y_train)"
   ]
  },
  {
   "cell_type": "code",
   "execution_count": null,
   "id": "21b022d0",
   "metadata": {},
   "outputs": [],
   "source": [
    "liner_model.coef_"
   ]
  },
  {
   "cell_type": "code",
   "execution_count": null,
   "id": "d5336423",
   "metadata": {},
   "outputs": [],
   "source": [
    "# printing coefficients clearly\n",
    "feature_names = x.columns  # Not x_train, but original DataFrame columns\n",
    "coef = pd.Series(liner_model.coef_, index=feature_names).sort_values()\n",
    "print(coef)\n"
   ]
  },
  {
   "cell_type": "markdown",
   "id": "f7f1fb54",
   "metadata": {},
   "source": [
    "## TEST THE MODEL"
   ]
  },
  {
   "cell_type": "code",
   "execution_count": null,
   "id": "896d3379",
   "metadata": {},
   "outputs": [],
   "source": [
    "# LINER REGRESSION PREDICTION\n",
    "y_predict = liner_model.predict(x_test)"
   ]
  },
  {
   "cell_type": "code",
   "execution_count": null,
   "id": "1e55d520",
   "metadata": {},
   "outputs": [],
   "source": [
    "# prediction using the matplot lib\n",
    "\n",
    "%pylab inline\n",
    "from matplotlib import pylab, pyplot as plt\n",
    "\n",
    "\n",
    "pylab.rcParams['figure.figsize'] = (15, 6)\n",
    "\n",
    "plt.plot(y_predict,label='Predicted Price')\n",
    "plt.plot(y_test.values, label='Actual Price')\n",
    "\n",
    "plt.ylabel('Price')\n",
    "plt.legend()\n",
    "plt.show()"
   ]
  },
  {
   "cell_type": "code",
   "execution_count": null,
   "id": "eb27253a",
   "metadata": {},
   "outputs": [],
   "source": [
    "score = liner_model.score(x_test, y_test)\n",
    "score"
   ]
  },
  {
   "cell_type": "markdown",
   "id": "5945e197",
   "metadata": {},
   "source": [
    "### STEP 6: finding the error\n",
    "#### MEAN SQUARE ERROR -- will tell us how much error is there in the given output"
   ]
  },
  {
   "cell_type": "code",
   "execution_count": null,
   "id": "6bf362ff",
   "metadata": {},
   "outputs": [],
   "source": [
    "from sklearn.metrics import mean_squared_error\n",
    "\n",
    "liner_model_mse = mean_squared_error(y_test, y_predict)  # predicted y and actual y\n",
    "liner_model_mse # its coming out to be 26 millions"
   ]
  },
  {
   "cell_type": "code",
   "execution_count": null,
   "id": "6b06347b",
   "metadata": {},
   "outputs": [],
   "source": [
    "import math\n",
    "math.sqrt(liner_model_mse)  # root mean square error"
   ]
  },
  {
   "cell_type": "code",
   "execution_count": null,
   "id": "80cfafcd",
   "metadata": {},
   "outputs": [],
   "source": [
    "# the above value is the error in the prediction of the model\n",
    "# for example if the price is 16000 then the price might + or - 3352 \n",
    "# that is 13000 or 19000"
   ]
  },
  {
   "cell_type": "markdown",
   "id": "98472e9a",
   "metadata": {},
   "source": [
    "### conclusion for the LINEAR REGRESSION ALGO -- accuracy is 84% and error is 3,352 dollars"
   ]
  },
  {
   "cell_type": "markdown",
   "id": "e4cb8c5a",
   "metadata": {},
   "source": [
    "### STEP 7: improvise, testing other algorithms"
   ]
  },
  {
   "cell_type": "code",
   "execution_count": null,
   "id": "b74eff4e",
   "metadata": {},
   "outputs": [],
   "source": [
    "# Implementing LASSO and Ridge Regression"
   ]
  },
  {
   "cell_type": "code",
   "execution_count": null,
   "id": "af3a4ad6",
   "metadata": {},
   "outputs": [],
   "source": [
    "from sklearn.linear_model import Lasso\n",
    "\n",
    "lasso_model = Lasso(alpha=0.5)  # alpha is the regularization parameter\n",
    "lasso_model.fit(x_train, y_train)\n",
    "\n",
    "# lets test the lasso model\n",
    "\n",
    "y_predict_lasso = lasso_model.predict(x_test)\n",
    "score = lasso_model.score(x_test, y_test)\n",
    "print(\"Lasso Model Score:\", score)\n",
    "lasso_model_mse = mean_squared_error(y_test, y_predict_lasso)\n",
    "print(math.sqrt(lasso_model_mse))"
   ]
  },
  {
   "cell_type": "code",
   "execution_count": null,
   "id": "175510f2",
   "metadata": {},
   "outputs": [],
   "source": [
    "# finding the coefficients\n",
    "# lasso_coef = pd.Series(lasso_model.coef_, index=feature_names).sort_values()\n",
    "# print(lasso_coef)"
   ]
  },
  {
   "cell_type": "markdown",
   "id": "323886eb",
   "metadata": {},
   "source": [
    "### colclusion for LASSO: accuracy is 85% and error is 3348 dollars"
   ]
  },
  {
   "cell_type": "code",
   "execution_count": null,
   "id": "f28f5877",
   "metadata": {},
   "outputs": [],
   "source": [
    "from sklearn.linear_model import Ridge\n",
    "\n",
    "ridge_model = Ridge(alpha=0.5)  # alpha is the regularization parameter\n",
    "ridge_model.fit(x_train, y_train)\n",
    "y_predict_ridge = ridge_model.predict(x_test)\n",
    "score = ridge_model.score(x_test, y_test)\n",
    "print(\"Ridge Model Score:\", score)\n",
    "ridge_model_mse = mean_squared_error(y_test, y_predict_ridge)\n",
    "print(math.sqrt(ridge_model_mse))"
   ]
  },
  {
   "cell_type": "markdown",
   "id": "32d1a2e6",
   "metadata": {},
   "source": [
    "### conclusion for Ridge - accuracy is 86% and error is 3297 dollars\n",
    "### final conclusion - I am recommending Ridge Algo fro Vehicle Price Prediction Project"
   ]
  },
  {
   "cell_type": "markdown",
   "id": "94c6f75e",
   "metadata": {},
   "source": []
  }
 ],
 "metadata": {
  "kernelspec": {
   "display_name": "Python 3",
   "language": "python",
   "name": "python3"
  },
  "language_info": {
   "codemirror_mode": {
    "name": "ipython",
    "version": 3
   },
   "file_extension": ".py",
   "mimetype": "text/x-python",
   "name": "python",
   "nbconvert_exporter": "python",
   "pygments_lexer": "ipython3",
   "version": "3.13.3"
  }
 },
 "nbformat": 4,
 "nbformat_minor": 5
}
